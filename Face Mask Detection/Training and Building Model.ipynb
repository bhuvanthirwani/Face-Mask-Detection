{
 "cells": [
  {
   "cell_type": "code",
   "execution_count": 15,
   "metadata": {},
   "outputs": [],
   "source": [
    "from keras.models import Sequential\n",
    "from keras.layers import Convolution2D\n",
    "from keras.layers import MaxPooling2D\n",
    "from keras.layers import Flatten\n",
    "from keras.layers import Dense\n",
    "from keras.models import model_from_json"
   ]
  },
  {
   "cell_type": "code",
   "execution_count": 20,
   "metadata": {},
   "outputs": [],
   "source": [
    "from keras.models import load_model\n",
    "import cv2"
   ]
  },
  {
   "cell_type": "code",
   "execution_count": 17,
   "metadata": {},
   "outputs": [],
   "source": [
    "from keras.preprocessing import image\n",
    "import numpy as np"
   ]
  },
  {
   "cell_type": "code",
   "execution_count": 22,
   "metadata": {},
   "outputs": [],
   "source": [
    "classifier = Sequential()"
   ]
  },
  {
   "cell_type": "code",
   "execution_count": 23,
   "metadata": {},
   "outputs": [],
   "source": [
    "classifier.add(Convolution2D(32, 3, 3, input_shape=(64, 64, 3), activation='relu'))\n",
    "classifier.add(MaxPooling2D(pool_size=(2, 2)))"
   ]
  },
  {
   "cell_type": "code",
   "execution_count": 24,
   "metadata": {},
   "outputs": [],
   "source": [
    "classifier.add(Convolution2D(32, 3, 3, activation='relu'))\n",
    "classifier.add(MaxPooling2D(pool_size=(2, 2)))"
   ]
  },
  {
   "cell_type": "code",
   "execution_count": 25,
   "metadata": {},
   "outputs": [],
   "source": [
    "classifier.add(Flatten())"
   ]
  },
  {
   "cell_type": "code",
   "execution_count": 26,
   "metadata": {},
   "outputs": [],
   "source": [
    "classifier.add(Dense(128, activation='relu'))\n",
    "classifier.add(Dense(1, activation='sigmoid'))"
   ]
  },
  {
   "cell_type": "code",
   "execution_count": 27,
   "metadata": {},
   "outputs": [],
   "source": [
    "classifier.compile(\n",
    "    optimizer='adam',\n",
    "    loss='binary_crossentropy',\n",
    "    metrics=['accuracy']\n",
    ")"
   ]
  },
  {
   "cell_type": "code",
   "execution_count": 28,
   "metadata": {},
   "outputs": [],
   "source": [
    "# part - 2 -- Fitting the CNN to the images\n",
    "from keras.preprocessing.image import ImageDataGenerator\n",
    "\n",
    "train_datagen= ImageDataGenerator(\n",
    "    rescale=1./255,\n",
    "    shear_range=0.2,\n",
    "    zoom_range=0.2,\n",
    "    horizontal_flip=True\n",
    ")\n",
    "test_datagen = ImageDataGenerator(rescale=1./255)\n",
    "\n"
   ]
  },
  {
   "cell_type": "code",
   "execution_count": 29,
   "metadata": {},
   "outputs": [
    {
     "name": "stdout",
     "output_type": "stream",
     "text": [
      "Found 3066 images belonging to 2 classes.\n"
     ]
    }
   ],
   "source": [
    "training_set = train_datagen.flow_from_directory(\n",
    "    'Dataset/train', # path/to/data/\n",
    "    target_size=(64, 64),\n",
    "    batch_size=32,\n",
    "    class_mode='binary'\n",
    ")\n"
   ]
  },
  {
   "cell_type": "code",
   "execution_count": 30,
   "metadata": {},
   "outputs": [
    {
     "name": "stdout",
     "output_type": "stream",
     "text": [
      "Found 767 images belonging to 2 classes.\n"
     ]
    }
   ],
   "source": [
    "test_set = test_datagen.flow_from_directory(\n",
    "    'Dataset/test',\n",
    "    target_size=(64, 64),\n",
    "    batch_size=32,\n",
    "    class_mode='binary'\n",
    ")\n"
   ]
  },
  {
   "cell_type": "code",
   "execution_count": 31,
   "metadata": {},
   "outputs": [
    {
     "data": {
      "text/plain": [
       "{'with_mask': 0, 'without_mask': 1}"
      ]
     },
     "execution_count": 31,
     "metadata": {},
     "output_type": "execute_result"
    }
   ],
   "source": [
    "training_set.class_indices"
   ]
  },
  {
   "cell_type": "code",
   "execution_count": 36,
   "metadata": {},
   "outputs": [
    {
     "name": "stdout",
     "output_type": "stream",
     "text": [
      "WARNING:tensorflow:From <ipython-input-36-54f37dc934b7>:6: Model.fit_generator (from tensorflow.python.keras.engine.training) is deprecated and will be removed in a future version.\n",
      "Instructions for updating:\n",
      "Please use Model.fit, which supports generators.\n",
      "Epoch 1/50\n",
      " 9/96 [=>............................] - ETA: 1:08 - loss: 0.6926 - accuracy: 0.4931"
     ]
    },
    {
     "name": "stderr",
     "output_type": "stream",
     "text": [
      "C:\\ProgramData\\Anaconda3\\lib\\site-packages\\PIL\\Image.py:932: UserWarning: Palette images with Transparency expressed in bytes should be converted to RGBA images\n",
      "  \"Palette images with Transparency expressed in bytes should be \"\n"
     ]
    },
    {
     "name": "stdout",
     "output_type": "stream",
     "text": [
      "96/96 [==============================] - 101s 1s/step - loss: 0.6480 - accuracy: 0.6050 - val_loss: 0.6070 - val_accuracy: 0.6367\n",
      "Epoch 2/50\n",
      "96/96 [==============================] - 33s 343ms/step - loss: 0.5011 - accuracy: 0.7710 - val_loss: 0.3968 - val_accuracy: 0.8457\n",
      "Epoch 3/50\n",
      "96/96 [==============================] - 28s 288ms/step - loss: 0.3846 - accuracy: 0.8346 - val_loss: 0.3421 - val_accuracy: 0.8535\n",
      "Epoch 4/50\n",
      "96/96 [==============================] - 29s 298ms/step - loss: 0.3759 - accuracy: 0.8366 - val_loss: 0.3622 - val_accuracy: 0.8418\n",
      "Epoch 5/50\n",
      "96/96 [==============================] - 30s 309ms/step - loss: 0.3393 - accuracy: 0.8562 - val_loss: 0.3402 - val_accuracy: 0.8516\n",
      "Epoch 6/50\n",
      "96/96 [==============================] - 20s 210ms/step - loss: 0.3295 - accuracy: 0.8653 - val_loss: 0.3290 - val_accuracy: 0.8594\n",
      "Epoch 7/50\n",
      "96/96 [==============================] - 24s 252ms/step - loss: 0.3241 - accuracy: 0.8607 - val_loss: 0.3034 - val_accuracy: 0.8770\n",
      "Epoch 8/50\n",
      "96/96 [==============================] - 28s 292ms/step - loss: 0.3280 - accuracy: 0.8624 - val_loss: 0.3300 - val_accuracy: 0.8594\n",
      "Epoch 9/50\n",
      "96/96 [==============================] - 28s 289ms/step - loss: 0.3143 - accuracy: 0.8686 - val_loss: 0.3400 - val_accuracy: 0.8574\n",
      "Epoch 10/50\n",
      "96/96 [==============================] - 27s 285ms/step - loss: 0.2981 - accuracy: 0.8738 - val_loss: 0.3570 - val_accuracy: 0.8359\n",
      "Epoch 11/50\n",
      "96/96 [==============================] - 28s 291ms/step - loss: 0.3075 - accuracy: 0.8728 - val_loss: 0.2916 - val_accuracy: 0.8750\n",
      "Epoch 12/50\n",
      "96/96 [==============================] - 27s 282ms/step - loss: 0.2907 - accuracy: 0.8796 - val_loss: 0.2739 - val_accuracy: 0.8906\n",
      "Epoch 13/50\n",
      "96/96 [==============================] - 29s 298ms/step - loss: 0.2933 - accuracy: 0.8770 - val_loss: 0.2458 - val_accuracy: 0.9023\n",
      "Epoch 14/50\n",
      "96/96 [==============================] - 28s 295ms/step - loss: 0.2785 - accuracy: 0.8823 - val_loss: 0.2800 - val_accuracy: 0.8828\n",
      "Epoch 15/50\n",
      "96/96 [==============================] - 27s 285ms/step - loss: 0.2681 - accuracy: 0.8914 - val_loss: 0.2785 - val_accuracy: 0.8828\n",
      "Epoch 16/50\n",
      "96/96 [==============================] - 29s 306ms/step - loss: 0.2773 - accuracy: 0.8813 - val_loss: 0.2803 - val_accuracy: 0.8848\n",
      "Epoch 17/50\n",
      "96/96 [==============================] - 29s 304ms/step - loss: 0.2810 - accuracy: 0.8813 - val_loss: 0.2813 - val_accuracy: 0.8750\n",
      "Epoch 18/50\n",
      "96/96 [==============================] - 28s 293ms/step - loss: 0.2635 - accuracy: 0.8920 - val_loss: 0.2779 - val_accuracy: 0.8906\n",
      "Epoch 19/50\n",
      "96/96 [==============================] - 27s 283ms/step - loss: 0.2649 - accuracy: 0.8871 - val_loss: 0.2864 - val_accuracy: 0.8672\n",
      "Epoch 20/50\n",
      "96/96 [==============================] - 28s 293ms/step - loss: 0.2615 - accuracy: 0.8966 - val_loss: 0.2851 - val_accuracy: 0.8789\n",
      "Epoch 21/50\n",
      "96/96 [==============================] - 28s 287ms/step - loss: 0.2609 - accuracy: 0.8885 - val_loss: 0.2803 - val_accuracy: 0.8848\n",
      "Epoch 22/50\n",
      "96/96 [==============================] - 28s 293ms/step - loss: 0.2627 - accuracy: 0.8920 - val_loss: 0.3176 - val_accuracy: 0.8867\n",
      "Epoch 23/50\n",
      "96/96 [==============================] - 29s 300ms/step - loss: 0.2551 - accuracy: 0.8930 - val_loss: 0.2605 - val_accuracy: 0.8906\n",
      "Epoch 24/50\n",
      "96/96 [==============================] - 29s 300ms/step - loss: 0.2467 - accuracy: 0.8963 - val_loss: 0.2548 - val_accuracy: 0.9082\n",
      "Epoch 25/50\n",
      "96/96 [==============================] - 28s 294ms/step - loss: 0.2455 - accuracy: 0.8999 - val_loss: 0.2407 - val_accuracy: 0.8945\n",
      "Epoch 26/50\n",
      "96/96 [==============================] - 28s 293ms/step - loss: 0.2376 - accuracy: 0.9015 - val_loss: 0.2678 - val_accuracy: 0.8828\n",
      "Epoch 27/50\n",
      "96/96 [==============================] - 28s 293ms/step - loss: 0.2535 - accuracy: 0.8953 - val_loss: 0.3107 - val_accuracy: 0.8789\n",
      "Epoch 28/50\n",
      "96/96 [==============================] - 29s 298ms/step - loss: 0.2388 - accuracy: 0.9002 - val_loss: 0.2560 - val_accuracy: 0.8926\n",
      "Epoch 29/50\n",
      "96/96 [==============================] - 28s 296ms/step - loss: 0.2372 - accuracy: 0.9005 - val_loss: 0.3123 - val_accuracy: 0.8711\n",
      "Epoch 30/50\n",
      "96/96 [==============================] - 29s 298ms/step - loss: 0.2329 - accuracy: 0.9035 - val_loss: 0.2401 - val_accuracy: 0.9043\n",
      "Epoch 31/50\n",
      "96/96 [==============================] - 28s 291ms/step - loss: 0.2269 - accuracy: 0.9044 - val_loss: 0.2600 - val_accuracy: 0.8945\n",
      "Epoch 32/50\n",
      "96/96 [==============================] - 28s 296ms/step - loss: 0.2257 - accuracy: 0.9113 - val_loss: 0.2316 - val_accuracy: 0.9062\n",
      "Epoch 33/50\n",
      "96/96 [==============================] - 28s 294ms/step - loss: 0.2358 - accuracy: 0.8999 - val_loss: 0.2597 - val_accuracy: 0.8945\n",
      "Epoch 34/50\n",
      "96/96 [==============================] - 29s 301ms/step - loss: 0.2201 - accuracy: 0.9123 - val_loss: 0.2826 - val_accuracy: 0.8770\n",
      "Epoch 35/50\n",
      "96/96 [==============================] - 27s 284ms/step - loss: 0.2117 - accuracy: 0.9149 - val_loss: 0.2774 - val_accuracy: 0.8906\n",
      "Epoch 36/50\n",
      "96/96 [==============================] - 28s 293ms/step - loss: 0.2215 - accuracy: 0.9116 - val_loss: 0.2953 - val_accuracy: 0.8730\n",
      "Epoch 37/50\n",
      "96/96 [==============================] - 27s 286ms/step - loss: 0.2240 - accuracy: 0.9090 - val_loss: 0.2430 - val_accuracy: 0.8906\n",
      "Epoch 38/50\n",
      "96/96 [==============================] - 28s 297ms/step - loss: 0.2153 - accuracy: 0.9110 - val_loss: 0.2504 - val_accuracy: 0.8945\n",
      "Epoch 39/50\n",
      "96/96 [==============================] - 28s 297ms/step - loss: 0.2164 - accuracy: 0.9123 - val_loss: 0.2517 - val_accuracy: 0.9062\n",
      "Epoch 40/50\n",
      "96/96 [==============================] - 29s 299ms/step - loss: 0.2330 - accuracy: 0.9041 - val_loss: 0.2783 - val_accuracy: 0.8945\n",
      "Epoch 41/50\n",
      "96/96 [==============================] - 29s 305ms/step - loss: 0.2271 - accuracy: 0.9093 - val_loss: 0.2461 - val_accuracy: 0.8965\n",
      "Epoch 42/50\n",
      "96/96 [==============================] - 29s 302ms/step - loss: 0.1995 - accuracy: 0.9136 - val_loss: 0.2695 - val_accuracy: 0.8848\n",
      "Epoch 43/50\n",
      "96/96 [==============================] - 29s 298ms/step - loss: 0.2147 - accuracy: 0.9139 - val_loss: 0.2763 - val_accuracy: 0.9023\n",
      "Epoch 44/50\n",
      "96/96 [==============================] - 28s 291ms/step - loss: 0.2103 - accuracy: 0.9188 - val_loss: 0.3004 - val_accuracy: 0.8730\n",
      "Epoch 45/50\n",
      "96/96 [==============================] - 28s 290ms/step - loss: 0.2061 - accuracy: 0.9139 - val_loss: 0.2701 - val_accuracy: 0.8887\n",
      "Epoch 46/50\n",
      "96/96 [==============================] - 23s 237ms/step - loss: 0.1961 - accuracy: 0.9224 - val_loss: 0.2997 - val_accuracy: 0.8926\n",
      "Epoch 47/50\n",
      "96/96 [==============================] - 18s 188ms/step - loss: 0.2123 - accuracy: 0.9136 - val_loss: 0.2301 - val_accuracy: 0.9102\n",
      "Epoch 48/50\n",
      "96/96 [==============================] - 18s 183ms/step - loss: 0.1970 - accuracy: 0.9230 - val_loss: 0.2514 - val_accuracy: 0.8984\n",
      "Epoch 49/50\n",
      "96/96 [==============================] - 20s 212ms/step - loss: 0.2042 - accuracy: 0.9139 - val_loss: 0.2695 - val_accuracy: 0.8965\n",
      "Epoch 50/50\n",
      "96/96 [==============================] - 21s 223ms/step - loss: 0.2072 - accuracy: 0.9123 - val_loss: 0.2730 - val_accuracy: 0.8945\n"
     ]
    }
   ],
   "source": [
    "result=classifier.fit_generator(\n",
    "    training_set,\n",
    "    steps_per_epoch=len(training_set),\n",
    "    epochs=50,\n",
    "    validation_data=test_set,\n",
    "    validation_steps=16\n",
    ")"
   ]
  },
  {
   "cell_type": "code",
   "execution_count": 5,
   "metadata": {},
   "outputs": [
    {
     "ename": "NameError",
     "evalue": "name 'classifier' is not defined",
     "output_type": "error",
     "traceback": [
      "\u001b[1;31m---------------------------------------------------------------------------\u001b[0m",
      "\u001b[1;31mNameError\u001b[0m                                 Traceback (most recent call last)",
      "\u001b[1;32m<ipython-input-5-1f681a5bd33b>\u001b[0m in \u001b[0;36m<module>\u001b[1;34m\u001b[0m\n\u001b[1;32m----> 1\u001b[1;33m \u001b[0mclassifier\u001b[0m\u001b[1;33m.\u001b[0m\u001b[0msave\u001b[0m\u001b[1;33m(\u001b[0m\u001b[1;34m\"model.h5\"\u001b[0m\u001b[1;33m)\u001b[0m\u001b[1;33m\u001b[0m\u001b[1;33m\u001b[0m\u001b[0m\n\u001b[0m",
      "\u001b[1;31mNameError\u001b[0m: name 'classifier' is not defined"
     ]
    }
   ],
   "source": [
    "classifier.save(\"model.h5\")"
   ]
  },
  {
   "cell_type": "code",
   "execution_count": 27,
   "metadata": {},
   "outputs": [
    {
     "name": "stdout",
     "output_type": "stream",
     "text": [
      "Model: \"sequential_1\"\n",
      "_________________________________________________________________\n",
      "Layer (type)                 Output Shape              Param #   \n",
      "=================================================================\n",
      "conv2d_2 (Conv2D)            (None, 21, 21, 200)       5600      \n",
      "_________________________________________________________________\n",
      "max_pooling2d_2 (MaxPooling2 (None, 10, 10, 200)       0         \n",
      "_________________________________________________________________\n",
      "conv2d_3 (Conv2D)            (None, 3, 3, 100)         180100    \n",
      "_________________________________________________________________\n",
      "max_pooling2d_3 (MaxPooling2 (None, 1, 1, 100)         0         \n",
      "_________________________________________________________________\n",
      "flatten_1 (Flatten)          (None, 100)               0         \n",
      "_________________________________________________________________\n",
      "dense_3 (Dense)              (None, 128)               12928     \n",
      "_________________________________________________________________\n",
      "dense_4 (Dense)              (None, 64)                8256      \n",
      "_________________________________________________________________\n",
      "dense_5 (Dense)              (None, 1)                 65        \n",
      "=================================================================\n",
      "Total params: 206,949\n",
      "Trainable params: 206,949\n",
      "Non-trainable params: 0\n",
      "_________________________________________________________________\n"
     ]
    }
   ],
   "source": [
    "model = load_model('colabmodel.h5')\n",
    "# summarize model.\n",
    "model.summary()"
   ]
  },
  {
   "cell_type": "code",
   "execution_count": 39,
   "metadata": {},
   "outputs": [],
   "source": [
    "color_dict={0:(0,255,0),1:(0,0,255)}"
   ]
  },
  {
   "cell_type": "code",
   "execution_count": 55,
   "metadata": {},
   "outputs": [
    {
     "name": "stdout",
     "output_type": "stream",
     "text": [
      "[[1]]\n",
      "(0, 255, 0) 0\n"
     ]
    },
    {
     "data": {
      "text/plain": [
       "(99.91638660430908, 1)"
      ]
     },
     "execution_count": 55,
     "metadata": {},
     "output_type": "execute_result"
    }
   ],
   "source": []
  },
  {
   "cell_type": "code",
   "execution_count": null,
   "metadata": {},
   "outputs": [],
   "source": []
  }
 ],
 "metadata": {
  "kernelspec": {
   "display_name": "Python 3",
   "language": "python",
   "name": "python3"
  },
  "language_info": {
   "codemirror_mode": {
    "name": "ipython",
    "version": 3
   },
   "file_extension": ".py",
   "mimetype": "text/x-python",
   "name": "python",
   "nbconvert_exporter": "python",
   "pygments_lexer": "ipython3",
   "version": "3.7.6"
  }
 },
 "nbformat": 4,
 "nbformat_minor": 4
}
